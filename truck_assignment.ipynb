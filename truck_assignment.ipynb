{
 "cells": [
  {
   "cell_type": "code",
   "execution_count": null,
   "metadata": {},
   "outputs": [],
   "source": []
  },
  {
   "cell_type": "code",
   "execution_count": 1,
   "metadata": {},
   "outputs": [],
   "source": [
    "import time\r\n",
    "import pandas as pd \r\n",
    "\r\n",
    "from random import uniform \r\n",
    "import matplotlib.pyplot as plt\r\n",
    "from pulp import *\r\n",
    "\r\n",
    "from utils.distance import haversine_np\r\n",
    "from utils.visualization import plot_map"
   ]
  },
  {
   "cell_type": "code",
   "execution_count": 2,
   "metadata": {},
   "outputs": [],
   "source": [
    "# PARAMETERS\r\n",
    "\r\n",
    "N_TRUCKS = 100 \r\n",
    "N_LOADS = 100 "
   ]
  },
  {
   "cell_type": "code",
   "execution_count": 3,
   "metadata": {},
   "outputs": [],
   "source": [
    "# create truck and load data\r\n",
    "\r\n",
    "trucks = pd.DataFrame(columns = ['lat', 'lon', 'etd'])\r\n",
    "loads = pd.DataFrame(columns = ['lat', 'lon', 'closing_time'])\r\n",
    "\r\n",
    "trucks['lon'] = [uniform(0, 1) for _ in range(N_TRUCKS)]\r\n",
    "trucks['lat'] = [uniform(0, 1) for _ in range(N_TRUCKS)]\r\n",
    "trucks['etd'] = [None for _ in range(N_TRUCKS)]\r\n",
    "trucks.reset_index(inplace = True)\r\n",
    "\r\n",
    "loads['lon'] = [uniform(0, 1) for _ in range(N_LOADS)]\r\n",
    "loads['lat'] = [uniform(0, 1) for _ in range(N_LOADS)]\r\n",
    "loads['closing_time'] = [None for _ in range(N_LOADS)]\r\n",
    "loads.reset_index(inplace = True)\r\n",
    "\r\n"
   ]
  },
  {
   "cell_type": "code",
   "execution_count": 4,
   "metadata": {},
   "outputs": [
    {
     "data": {
      "image/png": "[encoded data removed]",
      "text/plain": [
       "<Figure size 432x288 with 1 Axes>"
      ]
     },
     "metadata": {
      "needs_background": "light"
     },
     "output_type": "display_data"
    }
   ],
   "source": [
    "plt.plot(trucks['lon'], trucks['lat'], 'go')\r\n",
    "plt.plot(loads['lon'], loads['lat'], \"ro\")\r\n",
    "plt.title('truck and load positions')\r\n",
    "plt.xlabel('longitude')\r\n",
    "plt.ylabel('latitude')\r\n",
    "plt.legend(['trucks', 'loads'], title = 'assets', bbox_to_anchor=(1.05, 1), loc='upper left',)\r\n",
    "plt.show()"
   ]
  },
  {
   "cell_type": "markdown",
   "metadata": {},
   "source": [
    "## setup routes \r\n"
   ]
  },
  {
   "cell_type": "code",
   "execution_count": 5,
   "metadata": {},
   "outputs": [
    {
     "data": {
      "text/html": [
       "<div>\n",
       "<style scoped>\n",
       "    .dataframe tbody tr th:only-of-type {\n",
       "        vertical-align: middle;\n",
       "    }\n",
       "\n",
       "    .dataframe tbody tr th {\n",
       "        vertical-align: top;\n",
       "    }\n",
       "\n",
       "    .dataframe thead th {\n",
       "        text-align: right;\n",
       "    }\n",
       "</style>\n",
       "<table border=\"1\" class=\"dataframe\">\n",
       "  <thead>\n",
       "    <tr style=\"text-align: right;\">\n",
       "      <th></th>\n",
       "      <th></th>\n",
       "      <th>truck_lat</th>\n",
       "      <th>truck_lon</th>\n",
       "      <th>truck_etd</th>\n",
       "      <th>load_lat</th>\n",
       "      <th>load_lon</th>\n",
       "      <th>load_closing_time</th>\n",
       "      <th>distance</th>\n",
       "    </tr>\n",
       "    <tr>\n",
       "      <th>truck_index</th>\n",
       "      <th>load_index</th>\n",
       "      <th></th>\n",
       "      <th></th>\n",
       "      <th></th>\n",
       "      <th></th>\n",
       "      <th></th>\n",
       "      <th></th>\n",
       "      <th></th>\n",
       "    </tr>\n",
       "  </thead>\n",
       "  <tbody>\n",
       "    <tr>\n",
       "      <th rowspan=\"5\" valign=\"top\">0</th>\n",
       "      <th>0</th>\n",
       "      <td>0.989808</td>\n",
       "      <td>0.736847</td>\n",
       "      <td>None</td>\n",
       "      <td>0.213289</td>\n",
       "      <td>0.721009</td>\n",
       "      <td>None</td>\n",
       "      <td>86.308688</td>\n",
       "    </tr>\n",
       "    <tr>\n",
       "      <th>1</th>\n",
       "      <td>0.989808</td>\n",
       "      <td>0.736847</td>\n",
       "      <td>None</td>\n",
       "      <td>0.700669</td>\n",
       "      <td>0.867025</td>\n",
       "      <td>None</td>\n",
       "      <td>35.236261</td>\n",
       "    </tr>\n",
       "    <tr>\n",
       "      <th>2</th>\n",
       "      <td>0.989808</td>\n",
       "      <td>0.736847</td>\n",
       "      <td>None</td>\n",
       "      <td>0.476424</td>\n",
       "      <td>0.961619</td>\n",
       "      <td>None</td>\n",
       "      <td>62.277361</td>\n",
       "    </tr>\n",
       "    <tr>\n",
       "      <th>3</th>\n",
       "      <td>0.989808</td>\n",
       "      <td>0.736847</td>\n",
       "      <td>None</td>\n",
       "      <td>0.102032</td>\n",
       "      <td>0.152332</td>\n",
       "      <td>None</td>\n",
       "      <td>118.115287</td>\n",
       "    </tr>\n",
       "    <tr>\n",
       "      <th>4</th>\n",
       "      <td>0.989808</td>\n",
       "      <td>0.736847</td>\n",
       "      <td>None</td>\n",
       "      <td>0.809388</td>\n",
       "      <td>0.424932</td>\n",
       "      <td>None</td>\n",
       "      <td>40.038657</td>\n",
       "    </tr>\n",
       "  </tbody>\n",
       "</table>\n",
       "</div>"
      ],
      "text/plain": [
       "                        truck_lat  truck_lon truck_etd  load_lat  load_lon  \\\n",
       "truck_index load_index                                                       \n",
       "0           0            0.989808   0.736847      None  0.213289  0.721009   \n",
       "            1            0.989808   0.736847      None  0.700669  0.867025   \n",
       "            2            0.989808   0.736847      None  0.476424  0.961619   \n",
       "            3            0.989808   0.736847      None  0.102032  0.152332   \n",
       "            4            0.989808   0.736847      None  0.809388  0.424932   \n",
       "\n",
       "                       load_closing_time    distance  \n",
       "truck_index load_index                                \n",
       "0           0                       None   86.308688  \n",
       "            1                       None   35.236261  \n",
       "            2                       None   62.277361  \n",
       "            3                       None  118.115287  \n",
       "            4                       None   40.038657  "
      ]
     },
     "execution_count": 5,
     "metadata": {},
     "output_type": "execute_result"
    }
   ],
   "source": [
    "# routes are the cartesian product trucks x loads \r\n",
    "routes = trucks.add_prefix('truck_').assign(key = 1).merge(\r\n",
    "    loads.add_prefix('load_').assign(key = 1), \r\n",
    "    how = 'inner', \r\n",
    "    left_on = 'key',\r\n",
    "    right_on = 'key')\r\n",
    "routes.drop('key', axis = 1, inplace = True)\r\n",
    "\r\n",
    "# add distance \r\n",
    "routes['distance'] = haversine_np(routes['truck_lon'], routes['truck_lat'], routes['load_lon'], routes['load_lat'])\r\n",
    "\r\n",
    "# create route id \r\n",
    "routes.set_index(['truck_index', 'load_index'], inplace = True)\r\n",
    "\r\n",
    "# show sample\r\n",
    "routes.head()"
   ]
  },
  {
   "cell_type": "markdown",
   "metadata": {},
   "source": [
    "## Create Milp Model"
   ]
  },
  {
   "cell_type": "code",
   "execution_count": 6,
   "metadata": {},
   "outputs": [
    {
     "name": "stdout",
     "output_type": "stream",
     "text": [
      "setup optimization model successful \n",
      "runtime 0.5007047653198242\n"
     ]
    }
   ],
   "source": [
    "# save start time\r\n",
    "start = time.time()\r\n",
    "\r\n",
    "# set really big negativ number\r\n",
    "M = -10000\r\n",
    "\r\n",
    "# setup milp\r\n",
    "prob = LpProblem(\"Truck_Assignment_Problem\", LpMinimize)\r\n",
    "# create decision variables\r\n",
    "route_ids = list(routes.index)\r\n",
    "decision_vars = LpVariable.dicts('truck', route_ids, cat='Binary')\r\n",
    "\r\n",
    "# create objective function\r\n",
    "prob += lpSum([(M+routes.at[idx, 'distance'])*decision_vars[idx] for idx in route_ids]), \"Total_Cost_of_Assignments\"\r\n",
    "\r\n",
    "# create constraints \r\n",
    "for truck_id in range(len(trucks)):\r\n",
    "    prob += lpSum([decision_vars[asgmt] for asgmt in route_ids if asgmt[0] == truck_id]) <= 1, f'max_assignments_truck_{truck_id}'\r\n",
    "\r\n",
    "for load_id in range(len(loads)):\r\n",
    "    prob += lpSum([decision_vars[asgmt] for asgmt in route_ids if asgmt[1] == load_id]) <= 1, f'max_assignments_load_{load_id}'\r\n",
    "\r\n",
    "print(f'setup optimization model successful \\nruntime {time.time()-start}')"
   ]
  },
  {
   "cell_type": "markdown",
   "metadata": {},
   "source": [
    "# Solve Assignment problem"
   ]
  },
  {
   "cell_type": "code",
   "execution_count": 7,
   "metadata": {},
   "outputs": [
    {
     "name": "stdout",
     "output_type": "stream",
     "text": [
      "solution status Optimal \n",
      "runtime 0.5054202079772949\n"
     ]
    }
   ],
   "source": [
    "start = time.time()\r\n",
    "\r\n",
    "prob.solve(PULP_CBC_CMD(msg=0))\r\n",
    "\r\n",
    "print(f'solution status {LpStatus[prob.sol_status]} \\nruntime {time.time()-start}')"
   ]
  },
  {
   "cell_type": "markdown",
   "metadata": {},
   "source": [
    "# Collect Results"
   ]
  },
  {
   "cell_type": "code",
   "execution_count": 11,
   "metadata": {},
   "outputs": [
    {
     "name": "stdout",
     "output_type": "stream",
     "text": [
      "total cost of assignments 1137.5021176547878\n",
      "average cost of assignments 11.375021176547877\n",
      "number of assignments 100 \n",
      "number of available trucks 100 \n",
      "number of available loads 100\n"
     ]
    },
    {
     "data": {
      "text/html": [
       "<div>\n",
       "<style scoped>\n",
       "    .dataframe tbody tr th:only-of-type {\n",
       "        vertical-align: middle;\n",
       "    }\n",
       "\n",
       "    .dataframe tbody tr th {\n",
       "        vertical-align: top;\n",
       "    }\n",
       "\n",
       "    .dataframe thead th {\n",
       "        text-align: right;\n",
       "    }\n",
       "</style>\n",
       "<table border=\"1\" class=\"dataframe\">\n",
       "  <thead>\n",
       "    <tr style=\"text-align: right;\">\n",
       "      <th></th>\n",
       "      <th></th>\n",
       "      <th>truck_lat</th>\n",
       "      <th>truck_lon</th>\n",
       "      <th>truck_etd</th>\n",
       "      <th>load_lat</th>\n",
       "      <th>load_lon</th>\n",
       "      <th>load_closing_time</th>\n",
       "      <th>distance</th>\n",
       "    </tr>\n",
       "    <tr>\n",
       "      <th>truck_index</th>\n",
       "      <th>load_index</th>\n",
       "      <th></th>\n",
       "      <th></th>\n",
       "      <th></th>\n",
       "      <th></th>\n",
       "      <th></th>\n",
       "      <th></th>\n",
       "      <th></th>\n",
       "    </tr>\n",
       "  </thead>\n",
       "  <tbody>\n",
       "    <tr>\n",
       "      <th>0</th>\n",
       "      <th>63</th>\n",
       "      <td>0.989808</td>\n",
       "      <td>0.736847</td>\n",
       "      <td>None</td>\n",
       "      <td>0.983557</td>\n",
       "      <td>0.847880</td>\n",
       "      <td>None</td>\n",
       "      <td>12.356309</td>\n",
       "    </tr>\n",
       "    <tr>\n",
       "      <th>1</th>\n",
       "      <th>47</th>\n",
       "      <td>0.519058</td>\n",
       "      <td>0.767185</td>\n",
       "      <td>None</td>\n",
       "      <td>0.468592</td>\n",
       "      <td>0.739254</td>\n",
       "      <td>None</td>\n",
       "      <td>6.409523</td>\n",
       "    </tr>\n",
       "    <tr>\n",
       "      <th>2</th>\n",
       "      <th>71</th>\n",
       "      <td>0.711081</td>\n",
       "      <td>0.095853</td>\n",
       "      <td>None</td>\n",
       "      <td>0.706209</td>\n",
       "      <td>0.096296</td>\n",
       "      <td>None</td>\n",
       "      <td>0.543654</td>\n",
       "    </tr>\n",
       "    <tr>\n",
       "      <th>3</th>\n",
       "      <th>14</th>\n",
       "      <td>0.645899</td>\n",
       "      <td>0.633263</td>\n",
       "      <td>None</td>\n",
       "      <td>0.683827</td>\n",
       "      <td>0.730239</td>\n",
       "      <td>None</td>\n",
       "      <td>11.570669</td>\n",
       "    </tr>\n",
       "    <tr>\n",
       "      <th>4</th>\n",
       "      <th>12</th>\n",
       "      <td>0.734261</td>\n",
       "      <td>0.558554</td>\n",
       "      <td>None</td>\n",
       "      <td>0.727158</td>\n",
       "      <td>0.663149</td>\n",
       "      <td>None</td>\n",
       "      <td>11.648957</td>\n",
       "    </tr>\n",
       "  </tbody>\n",
       "</table>\n",
       "</div>"
      ],
      "text/plain": [
       "                        truck_lat  truck_lon truck_etd  load_lat  load_lon  \\\n",
       "truck_index load_index                                                       \n",
       "0           63           0.989808   0.736847      None  0.983557  0.847880   \n",
       "1           47           0.519058   0.767185      None  0.468592  0.739254   \n",
       "2           71           0.711081   0.095853      None  0.706209  0.096296   \n",
       "3           14           0.645899   0.633263      None  0.683827  0.730239   \n",
       "4           12           0.734261   0.558554      None  0.727158  0.663149   \n",
       "\n",
       "                       load_closing_time   distance  \n",
       "truck_index load_index                               \n",
       "0           63                      None  12.356309  \n",
       "1           47                      None   6.409523  \n",
       "2           71                      None   0.543654  \n",
       "3           14                      None  11.570669  \n",
       "4           12                      None  11.648957  "
      ]
     },
     "execution_count": 11,
     "metadata": {},
     "output_type": "execute_result"
    }
   ],
   "source": [
    "# filter routes \r\n",
    "assignments = routes.loc[[asmgt for asmgt in decision_vars if decision_vars[asmgt].varValue > 0]]\r\n",
    "\r\n",
    "print(f'total cost of assignments {assignments[\"distance\"].sum()}')\r\n",
    "print(f'average cost of assignments {assignments[\"distance\"].mean()}')\r\n",
    "print(f'number of assignments {len(assignments)} \\nnumber of available trucks {len(trucks)} \\nnumber of available loads {len(loads)}')\r\n",
    "assignments.head()"
   ]
  },
  {
   "cell_type": "code",
   "execution_count": 10,
   "metadata": {},
   "outputs": [
    {
     "data": {
      "image/png": "[encoded data removed]",
      "text/plain": [
       "<Figure size 432x288 with 1 Axes>"
      ]
     },
     "metadata": {
      "needs_background": "light"
     },
     "output_type": "display_data"
    }
   ],
   "source": [
    "plt.plot(trucks['lon'], trucks['lat'], 'go')\r\n",
    "plt.plot(loads['lon'], loads['lat'], \"ro\")\r\n",
    "for _, asgmt in assignments.iterrows():\r\n",
    "    x_points = [asgmt['truck_lon'], asgmt['load_lon']]\r\n",
    "    y_points = [asgmt['truck_lat'], asgmt['load_lat']]\r\n",
    "    plt.plot(x_points, y_points, 'g--')\r\n",
    "plt.title('truck and load positions')\r\n",
    "plt.xlabel('longitude')\r\n",
    "plt.ylabel('latitude')\r\n",
    "plt.legend(['trucks', 'loads'], title = 'assets', bbox_to_anchor=(1.05, 1), loc='upper left',)\r\n",
    "plt.show()"
   ]
  }
 ],
 "metadata": {
  "interpreter": {
   "hash": "bcd9ec4b19b962b9852edbc43841838e7a880596d898eccc91c447bc769a64ba"
  },
  "kernelspec": {
   "display_name": "Python 3.9.2 64-bit",
   "name": "python3"
  },
  "language_info": {
   "codemirror_mode": {
    "name": "ipython",
    "version": 3
   },
   "file_extension": ".py",
   "mimetype": "text/x-python",
   "name": "python",
   "nbconvert_exporter": "python",
   "pygments_lexer": "ipython3",
   "version": "3.9.2"
  }
 },
 "nbformat": 4,
 "nbformat_minor": 2
}