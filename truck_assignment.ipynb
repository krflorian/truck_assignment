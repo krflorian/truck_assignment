{
 "cells": [
  {
   "cell_type": "code",
   "execution_count": 1,
   "metadata": {},
   "outputs": [],
   "source": [
    "import numpy as np\n",
    "import pandas as pd\n",
    "import time\n",
    "\n",
    "import classes as c\n",
    "import random as r\n",
    "import matplotlib.pyplot as plt\n",
    "from pulp import *"
   ]
  },
  {
   "cell_type": "code",
   "execution_count": 2,
   "metadata": {},
   "outputs": [],
   "source": [
    "# load truck and load data\n",
    "truckers = ['alf', 'anton', 'albert', 'bert', 'benno', 'benjamin', 'Carl', 'Dennis', 'Enno', 'Fabian', 'Gustav']\n",
    "load_numbers = ['A1', 'A2', 'A3', 'A4', 'A5', 'A6', 'A7', 'A8', 'A9', 'A10']\n",
    "\n",
    "trucks = [c.truck(name) for name in truckers]\n",
    "loads = [c.load(id) for id in load_numbers]\n",
    "\n",
    "# initialize truck positions\n",
    "for truck in trucks:\n",
    "    lat = r.randint(1, 101)\n",
    "    lon = r.randint(1, 101)\n",
    "    truck.set_position(lat, lon)\n",
    "\n",
    "# initialize truck positions\n",
    "for load in loads:\n",
    "    lat = r.randint(1, 101)\n",
    "    lon = r.randint(1, 101)\n",
    "    load.set_position_load(lat, lon)\n",
    "    lat = r.randint(101, 201)\n",
    "    lon = r.randint(101, 201)\n",
    "    load.set_position_unload(lat, lon)\n",
    "\n",
    "# initialize dictionaries with names and objects\n",
    "truck_dict = {truckers[i]:trucks[i] for i in range(len(truckers))}\n",
    "load_dict = {load_numbers[i]:loads[i] for i in range(len(loads))}"
   ]
  },
  {
   "cell_type": "code",
   "execution_count": 3,
   "metadata": {},
   "outputs": [],
   "source": [
    "# setup costs\n",
    "costs = {(truckers[i], load_numbers[j]):trucks[i].distance_to(loads[j]) for i in range(len(trucks)) for j in range(len(loads))}\n",
    "\n",
    "# setup decision variables\n",
    "trucks_loads = [i for i in costs]"
   ]
  },
  {
   "cell_type": "code",
   "execution_count": 4,
   "metadata": {},
   "outputs": [
    {
     "data": {
      "image/png": "[encoded data removed]",
      "text/plain": [
       "<Figure size 432x288 with 1 Axes>"
      ]
     },
     "metadata": {
      "needs_background": "light"
     },
     "output_type": "display_data"
    }
   ],
   "source": [
    "# print position of loads and trucks\n",
    "for var in trucks_loads:\n",
    "    x_coordinates = []\n",
    "    y_coordinates = []\n",
    "    x_coordinates.append(truck_dict[var[0]].position[0])\n",
    "    y_coordinates.append(truck_dict[var[0]].position[1])\n",
    "    x_coordinates.append(load_dict[var[1]].position_load[0])\n",
    "    y_coordinates.append(load_dict[var[1]].position_load[1])\n",
    "    plt.plot(x_coordinates[0], y_coordinates[0], 'go')\n",
    "    plt.plot(x_coordinates[1], y_coordinates[1], 'ro')\n",
    "plt.title('Trucks and Loads')\n",
    "plt.xlabel('latitude')\n",
    "plt.ylabel('longitude')\n",
    "plt.legend(['Truck', 'Load'])\n",
    "plt.show()"
   ]
  },
  {
   "cell_type": "markdown",
   "metadata": {},
   "source": [
    "Setup Train (not implemented)\n",
    " 1. set train station\n",
    " 2. check how many slots are free on train\n",
    " 3. heuristic -> assign all loads to train with distance < threshold\n",
    " 4. go on without loads for train"
   ]
  },
  {
   "cell_type": "markdown",
   "metadata": {},
   "source": [
    "## MILP"
   ]
  },
  {
   "cell_type": "code",
   "execution_count": 5,
   "metadata": {},
   "outputs": [],
   "source": [
    "# save start time\n",
    "start_time = time.time()\n",
    "# setup milp\n",
    "prob = LpProblem(\"Truck Assignment\", LpMinimize)\n",
    "# create decision variables\n",
    "decision_vars = LpVariable.dicts('truck', trucks_loads, cat='Binary')\n",
    "# create objective function\n",
    "prob += lpSum([costs[i]*decision_vars[i] for i in trucks_loads]), \"Total Cost of Trucks\""
   ]
  },
  {
   "cell_type": "markdown",
   "metadata": {},
   "source": [
    "Setup constraints: \n",
    "\n",
    "1.) only one truck per load"
   ]
  },
  {
   "cell_type": "code",
   "execution_count": 6,
   "metadata": {},
   "outputs": [],
   "source": [
    "if len(load_numbers) >= len(truckers):\n",
    "    for truck in truckers:\n",
    "        prob += lpSum([decision_vars[(truck, load)] for load in load_numbers]) == 1, 'max load per trucker '+ truck\n",
    "    for load in load_numbers:\n",
    "        prob += lpSum([decision_vars[(truck, load)] for truck in truckers]) <= 1, 'max trucks per load '+ load\n",
    "else:\n",
    "    for truck in truckers:\n",
    "        prob += lpSum([decision_vars[(truck, load)] for load in load_numbers]) <= 1, 'max load per trucker '+ truck\n",
    "    for load in load_numbers:\n",
    "        prob += lpSum([decision_vars[(truck, load)] for truck in truckers]) == 1, 'max trucks per load '+ load    "
   ]
  },
  {
   "cell_type": "markdown",
   "metadata": {},
   "source": [
    "2.) Truck has enough drivingtime left\n",
    "\n",
    "(not implemented)\n",
    "\n",
    "add constraint decision_var * drivingtime <= time needed"
   ]
  },
  {
   "cell_type": "code",
   "execution_count": 7,
   "metadata": {},
   "outputs": [
    {
     "data": {
      "text/plain": [
       "1"
      ]
     },
     "execution_count": 7,
     "metadata": {},
     "output_type": "execute_result"
    }
   ],
   "source": [
    "prob.solve()"
   ]
  },
  {
   "cell_type": "code",
   "execution_count": 8,
   "metadata": {},
   "outputs": [
    {
     "name": "stdout",
     "output_type": "stream",
     "text": [
      "Runtime: --- 0.5312438011169434 seconds ---\n"
     ]
    }
   ],
   "source": [
    "# print runtime\n",
    "print(\"Runtime: --- %s seconds ---\" % (time.time() - start_time))"
   ]
  },
  {
   "cell_type": "code",
   "execution_count": 9,
   "metadata": {},
   "outputs": [
    {
     "name": "stdout",
     "output_type": "stream",
     "text": [
      "Status: Optimal\n"
     ]
    }
   ],
   "source": [
    "print(\"Status:\", LpStatus[prob.status])"
   ]
  },
  {
   "cell_type": "code",
   "execution_count": 11,
   "metadata": {},
   "outputs": [
    {
     "name": "stdout",
     "output_type": "stream",
     "text": [
      "load assignment: \n",
      "('alf', 'A4')\n",
      "('anton', 'A2')\n",
      "('albert', 'A8')\n",
      "('bert', 'A6')\n",
      "('benjamin', 'A3')\n",
      "('Carl', 'A10')\n",
      "('Dennis', 'A9')\n",
      "('Enno', 'A7')\n",
      "('Fabian', 'A1')\n",
      "('Gustav', 'A5')\n",
      "Total Cost of Trucks =  199.803512323947 \n",
      "\n",
      "idle trucks:  ['benno']\n"
     ]
    }
   ],
   "source": [
    "assigned_trucks = []\n",
    "idle_trucks = []\n",
    "\n",
    "print('load assignment: ')\n",
    "for var in trucks_loads:\n",
    "    if decision_vars[var].varValue > 0:\n",
    "        assigned_trucks.append(var[0])\n",
    "        print(var)\n",
    "for var in trucks_loads:\n",
    "    if (var[0] not in assigned_trucks and var[0] not in idle_trucks):\n",
    "        idle_trucks.append(var[0])\n",
    "print(\"Total Cost of Trucks = \", value(prob.objective), '\\n')\n",
    "print('idle trucks: ', idle_trucks)"
   ]
  },
  {
   "cell_type": "code",
   "execution_count": 12,
   "metadata": {},
   "outputs": [
    {
     "data": {
      "image/png": "[encoded data removed]",
      "text/plain": [
       "<Figure size 432x288 with 1 Axes>"
      ]
     },
     "metadata": {
      "needs_background": "light"
     },
     "output_type": "display_data"
    }
   ],
   "source": [
    "for var in trucks_loads:\n",
    "    x_coordinates = []\n",
    "    y_coordinates = []\n",
    "    x_coordinates.append(truck_dict[var[0]].position[0])\n",
    "    y_coordinates.append(truck_dict[var[0]].position[1])\n",
    "    x_coordinates.append(load_dict[var[1]].position_load[0])\n",
    "    y_coordinates.append(load_dict[var[1]].position_load[1])\n",
    "    plt.plot(x_coordinates[0], y_coordinates[0], 'go')\n",
    "    plt.plot(x_coordinates[1], y_coordinates[1], 'ro')\n",
    "    if decision_vars[var].varValue > 0:\n",
    "        plt.plot(x_coordinates, y_coordinates, '-g')\n",
    "plt.title('Trucks and Loads connected')\n",
    "plt.xlabel('latitude')\n",
    "plt.ylabel('longitude')\n",
    "plt.legend(['Truck', 'Load'])\n",
    "plt.show()"
   ]
  }
 ],
 "metadata": {
  "kernelspec": {
   "display_name": "Python 3",
   "language": "python",
   "name": "python3"
  },
  "language_info": {
   "codemirror_mode": {
    "name": "ipython",
    "version": 3
   },
   "file_extension": ".py",
   "mimetype": "text/x-python",
   "name": "python",
   "nbconvert_exporter": "python",
   "pygments_lexer": "ipython3",
   "version": "3.6.6"
  }
 },
 "nbformat": 4,
 "nbformat_minor": 2
}
